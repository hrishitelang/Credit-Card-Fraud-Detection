{
 "cells": [
  {
   "cell_type": "markdown",
   "metadata": {},
   "source": [
    "# Credit Card Fraud Detection (Classification Models + SMOTE with RandomUnderSampler):"
   ]
  },
  {
   "cell_type": "markdown",
   "metadata": {},
   "source": [
    "### 1. Import"
   ]
  },
  {
   "cell_type": "code",
   "execution_count": 1,
   "metadata": {},
   "outputs": [],
   "source": [
    "#Import the libraries\n",
    "import numpy as np\n",
    "import matplotlib.pyplot as plt\n",
    "import pandas as pd"
   ]
  },
  {
   "cell_type": "code",
   "execution_count": 2,
   "metadata": {},
   "outputs": [],
   "source": [
    "#Import the dataset\n",
    "dataset = pd.read_csv(\"creditcard.csv\")"
   ]
  },
  {
   "cell_type": "markdown",
   "metadata": {},
   "source": [
    "### 2. Creating the model"
   ]
  },
  {
   "cell_type": "code",
   "execution_count": 3,
   "metadata": {},
   "outputs": [],
   "source": [
    "X = dataset.iloc[:, :-1].values\n",
    "y = dataset.iloc[:, -1].values"
   ]
  },
  {
   "cell_type": "code",
   "execution_count": 4,
   "metadata": {},
   "outputs": [],
   "source": [
    "from sklearn.preprocessing import StandardScaler\n",
    "sc = StandardScaler()\n",
    "X_scale = sc.fit_transform(X)"
   ]
  },
  {
   "cell_type": "code",
   "execution_count": 5,
   "metadata": {},
   "outputs": [],
   "source": [
    "from sklearn.model_selection import train_test_split\n",
    "X_train, X_test, y_train, y_test = train_test_split(X_scale, y, test_size = 0.27, random_state = 1)"
   ]
  },
  {
   "cell_type": "code",
   "execution_count": 6,
   "metadata": {},
   "outputs": [
    {
     "name": "stdout",
     "output_type": "stream",
     "text": [
      "Counter({0: 207544, 1: 365})\n"
     ]
    }
   ],
   "source": [
    "from collections import Counter\n",
    "# Summarize Class Distribution\n",
    "counter = Counter(y_train)\n",
    "print(counter)"
   ]
  },
  {
   "cell_type": "markdown",
   "metadata": {},
   "source": [
    "### 3. Oversampling and undersampling using RandomUnderSampler:\n",
    "In this exercise, we have performed oversampling and undersampling of the same classes using the RandomUnderSampler class from the imbalanced-learn library.\n",
    "We can update the example to first oversample the minority class to have 10 percent the number of examples of the majority class, then use random undersampling to reduce the number of examples in the majority class to have 50 percent more than the minority class.\n",
    "To implement this, we can specify the desired ratios as arguments to the SMOTE and RandomUnderSampler classes, and then chain them together using a pipeline, for example:"
   ]
  },
  {
   "cell_type": "code",
   "execution_count": 21,
   "metadata": {},
   "outputs": [],
   "source": [
    "from collections import Counter\n",
    "from imblearn.over_sampling import SMOTE\n",
    "from imblearn.under_sampling import RandomUnderSampler\n",
    "from imblearn.pipeline import Pipeline\n",
    "over = SMOTE(sampling_strategy=0.1)\n",
    "under = RandomUnderSampler(sampling_strategy=0.5)\n",
    "steps = [('o', over), ('u', under)]\n",
    "pipeline = Pipeline(steps=steps)"
   ]
  },
  {
   "cell_type": "markdown",
   "metadata": {},
   "source": [
    "The Pipeline can then be applied to a dataset, performing each transformation in turn and returning a final dataset with the accumulation of the transform applied to it, in this case oversampling followed by undersampling. The pipeline can then be fit and applied to our dataset just like a single transform"
   ]
  },
  {
   "cell_type": "code",
   "execution_count": 22,
   "metadata": {},
   "outputs": [
    {
     "name": "stdout",
     "output_type": "stream",
     "text": [
      "Counter({0: 41508, 1: 20754})\n"
     ]
    }
   ],
   "source": [
    "X_res, y_res = pipeline.fit_resample(X_train, y_train)\n",
    "# summarize the new class distribution\n",
    "counter = Counter(y_res)\n",
    "print(counter)"
   ]
  },
  {
   "cell_type": "code",
   "execution_count": 23,
   "metadata": {},
   "outputs": [],
   "source": [
    "#Convert X_train and y_train to these values \n",
    "X_train, y_train = X_res, y_res"
   ]
  },
  {
   "cell_type": "markdown",
   "metadata": {},
   "source": [
    "### 4. Create the Classifier models: \n",
    "To achieve this, we used Decision Tree, Random Forest, Logistic Regression, KNN, Linear SVM and Naive Bayes, just like before:"
   ]
  },
  {
   "cell_type": "code",
   "execution_count": 24,
   "metadata": {},
   "outputs": [],
   "source": [
    "from sklearn.tree import DecisionTreeClassifier\n",
    "from sklearn.ensemble import RandomForestClassifier\n",
    "from sklearn.linear_model import LogisticRegression\n",
    "from sklearn.neighbors import KNeighborsClassifier\n",
    "from sklearn.svm import LinearSVC, SVC\n",
    "from sklearn.naive_bayes import GaussianNB\n",
    "\n",
    "classifiers = {\n",
    "    \"Random Forest Classifier\": RandomForestClassifier(n_estimators = 10, criterion = 'entropy', random_state = 1),\n",
    "    \"Decision Tree Classifier\": DecisionTreeClassifier(criterion = 'gini', random_state = 1),\n",
    "    \"Logistic Regression\": LogisticRegression(random_state = 1),\n",
    "    \"KNN\": KNeighborsClassifier(n_neighbors = 3),\n",
    "    \"Linear SVM\": LinearSVC(),\n",
    "    \"Naive Bayes Classifier\": GaussianNB()\n",
    "}"
   ]
  },
  {
   "cell_type": "code",
   "execution_count": 25,
   "metadata": {},
   "outputs": [
    {
     "name": "stdout",
     "output_type": "stream",
     "text": [
      "%%%%%%%%%%%%%%%%%%%% Random Forest Classifier %%%%%%%%%%%%%%%%%%%%\n",
      "Classification Report:\n",
      "              precision    recall  f1-score   support\n",
      "\n",
      "           0       1.00      1.00      1.00     41508\n",
      "           1       1.00      1.00      1.00     20754\n",
      "\n",
      "    accuracy                           1.00     62262\n",
      "   macro avg       1.00      1.00      1.00     62262\n",
      "weighted avg       1.00      1.00      1.00     62262\n",
      "\n",
      "Confusion Matrix:\n"
     ]
    },
    {
     "data": {
      "image/png": "[encoded data removed]",
      "text/plain": [
       "<Figure size 432x288 with 2 Axes>"
      ]
     },
     "metadata": {
      "needs_background": "light"
     },
     "output_type": "display_data"
    },
    {
     "name": "stdout",
     "output_type": "stream",
     "text": [
      "Accuracy Score: 100.0%\n",
      "Precision Score: 1.0\n",
      "Recall Score: 0.9998554495518936\n",
      "F1 Score: 0.9999277195518612\n",
      "%%%%%%%%%%%%%%%%%%%% Decision Tree Classifier %%%%%%%%%%%%%%%%%%%%\n",
      "Classification Report:\n",
      "              precision    recall  f1-score   support\n",
      "\n",
      "           0       1.00      1.00      1.00     41508\n",
      "           1       1.00      1.00      1.00     20754\n",
      "\n",
      "    accuracy                           1.00     62262\n",
      "   macro avg       1.00      1.00      1.00     62262\n",
      "weighted avg       1.00      1.00      1.00     62262\n",
      "\n",
      "Confusion Matrix:\n"
     ]
    },
    {
     "data": {
      "image/png": "[encoded data removed]",
      "text/plain": [
       "<Figure size 432x288 with 2 Axes>"
      ]
     },
     "metadata": {
      "needs_background": "light"
     },
     "output_type": "display_data"
    },
    {
     "name": "stdout",
     "output_type": "stream",
     "text": [
      "Accuracy Score: 100.0%\n",
      "Precision Score: 1.0\n",
      "Recall Score: 1.0\n",
      "F1 Score: 1.0\n",
      "%%%%%%%%%%%%%%%%%%%% Logistic Regression %%%%%%%%%%%%%%%%%%%%\n",
      "Classification Report:\n",
      "              precision    recall  f1-score   support\n",
      "\n",
      "           0       0.96      0.99      0.97     41508\n",
      "           1       0.98      0.91      0.94     20754\n",
      "\n",
      "    accuracy                           0.96     62262\n",
      "   macro avg       0.97      0.95      0.96     62262\n",
      "weighted avg       0.96      0.96      0.96     62262\n",
      "\n",
      "Confusion Matrix:\n"
     ]
    },
    {
     "data": {
      "image/png": "[encoded data removed]",
      "text/plain": [
       "<Figure size 432x288 with 2 Axes>"
      ]
     },
     "metadata": {
      "needs_background": "light"
     },
     "output_type": "display_data"
    },
    {
     "name": "stdout",
     "output_type": "stream",
     "text": [
      "Accuracy Score: 96.3%\n",
      "Precision Score: 0.9786074043304429\n",
      "Recall Score: 0.9081140984870386\n",
      "F1 Score: 0.9420438357533801\n",
      "%%%%%%%%%%%%%%%%%%%% KNN %%%%%%%%%%%%%%%%%%%%\n",
      "Classification Report:\n",
      "              precision    recall  f1-score   support\n",
      "\n",
      "           0       1.00      1.00      1.00     41508\n",
      "           1       0.99      1.00      1.00     20754\n",
      "\n",
      "    accuracy                           1.00     62262\n",
      "   macro avg       1.00      1.00      1.00     62262\n",
      "weighted avg       1.00      1.00      1.00     62262\n",
      "\n",
      "Confusion Matrix:\n"
     ]
    },
    {
     "data": {
      "image/png": "[encoded data removed]",
      "text/plain": [
       "<Figure size 432x288 with 2 Axes>"
      ]
     },
     "metadata": {
      "needs_background": "light"
     },
     "output_type": "display_data"
    },
    {
     "name": "stdout",
     "output_type": "stream",
     "text": [
      "Accuracy Score: 99.8%\n",
      "Precision Score: 0.9944417824628654\n",
      "Recall Score: 1.0\n",
      "F1 Score: 0.9972131462617722\n",
      "%%%%%%%%%%%%%%%%%%%% Linear SVM %%%%%%%%%%%%%%%%%%%%\n"
     ]
    },
    {
     "name": "stderr",
     "output_type": "stream",
     "text": [
      "C:\\Users\\Admin\\Anaconda3\\lib\\site-packages\\sklearn\\svm\\_base.py:977: ConvergenceWarning: Liblinear failed to converge, increase the number of iterations.\n",
      "  \"the number of iterations.\", ConvergenceWarning)\n"
     ]
    },
    {
     "name": "stdout",
     "output_type": "stream",
     "text": [
      "Classification Report:\n",
      "              precision    recall  f1-score   support\n",
      "\n",
      "           0       0.95      0.99      0.97     41508\n",
      "           1       0.98      0.89      0.94     20754\n",
      "\n",
      "    accuracy                           0.96     62262\n",
      "   macro avg       0.96      0.94      0.95     62262\n",
      "weighted avg       0.96      0.96      0.96     62262\n",
      "\n",
      "Confusion Matrix:\n"
     ]
    },
    {
     "data": {
      "image/png": "[encoded data removed]",
      "text/plain": [
       "<Figure size 432x288 with 2 Axes>"
      ]
     },
     "metadata": {
      "needs_background": "light"
     },
     "output_type": "display_data"
    },
    {
     "name": "stdout",
     "output_type": "stream",
     "text": [
      "Accuracy Score: 95.89999999999999%\n",
      "Precision Score: 0.9797404241848686\n",
      "Recall Score: 0.8947672737785487\n",
      "F1 Score: 0.9353278936234513\n",
      "%%%%%%%%%%%%%%%%%%%% Naive Bayes Classifier %%%%%%%%%%%%%%%%%%%%\n",
      "Classification Report:\n",
      "              precision    recall  f1-score   support\n",
      "\n",
      "           0       0.93      0.98      0.95     41508\n",
      "           1       0.95      0.86      0.90     20754\n",
      "\n",
      "    accuracy                           0.94     62262\n",
      "   macro avg       0.94      0.92      0.93     62262\n",
      "weighted avg       0.94      0.94      0.94     62262\n",
      "\n",
      "Confusion Matrix:\n"
     ]
    },
    {
     "data": {
      "image/png": "[encoded data removed]",
      "text/plain": [
       "<Figure size 432x288 with 2 Axes>"
      ]
     },
     "metadata": {
      "needs_background": "light"
     },
     "output_type": "display_data"
    },
    {
     "name": "stdout",
     "output_type": "stream",
     "text": [
      "Accuracy Score: 93.8%\n",
      "Precision Score: 0.9514957264957264\n",
      "Recall Score: 0.8582441938903344\n",
      "F1 Score: 0.9024674469270912\n"
     ]
    }
   ],
   "source": [
    "import seaborn as sns\n",
    "from sklearn.metrics import accuracy_score, classification_report, f1_score, precision_score, recall_score, confusion_matrix\n",
    "def calculations(X_test, y_test, classifier):\n",
    "    y_pred = classifier.predict(X_test)\n",
    "    print(\"Classification Report:\")\n",
    "    print(classification_report(y_test, y_pred))\n",
    "    print(\"Confusion Matrix:\")\n",
    "    cm = confusion_matrix(y_test, y_pred)\n",
    "    sns.heatmap(cm/np.sum(cm), annot = True, fmt='.2%', cmap = \"Blues\")\n",
    "    plt.show()\n",
    "    print(\"Accuracy Score: {}%\".format(np.round(accuracy_score(y_test, y_pred), 3) * 100))\n",
    "    print(\"Precision Score: {}\".format(precision_score(y_test, y_pred)))\n",
    "    print(\"Recall Score: {}\".format(recall_score(y_test, y_pred)))\n",
    "    print(\"F1 Score: {}\".format(f1_score(y_test, y_pred)))\n",
    "\n",
    "for i, (cname, classifier) in enumerate(classifiers.items()):\n",
    "    print(\"%%%%%%%%%%%%%%%%%%%% {} %%%%%%%%%%%%%%%%%%%%\".format(cname))\n",
    "    classifier.fit(X_res, y_res)\n",
    "    calculations(X_train, y_res, classifier)"
   ]
  },
  {
   "cell_type": "markdown",
   "metadata": {},
   "source": [
    "### Observations:\n",
    "1. The accuracy of the classifiers are as follows:\n",
    "    Random Forest = 100%\n",
    "    Decision Tree = 100%\n",
    "    Logistic Regression = 96.3%\n",
    "    KNN = 99.8%\n",
    "    Linear SVM = 96.0%\n",
    "    Naive Bayes Classifier = 93.89%\n",
    "2. The results shown are much better than the earlier program using only SMOTE!"
   ]
  }
 ],
 "metadata": {
  "kernelspec": {
   "display_name": "Python 3",
   "language": "python",
   "name": "python3"
  },
  "language_info": {
   "codemirror_mode": {
    "name": "ipython",
    "version": 3
   },
   "file_extension": ".py",
   "mimetype": "text/x-python",
   "name": "python",
   "nbconvert_exporter": "python",
   "pygments_lexer": "ipython3",
   "version": "3.7.1"
  }
 },
 "nbformat": 4,
 "nbformat_minor": 4
}
